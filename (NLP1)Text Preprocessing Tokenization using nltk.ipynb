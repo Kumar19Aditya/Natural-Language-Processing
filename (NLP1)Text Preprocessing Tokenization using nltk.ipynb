{
 "cells": [
  {
   "cell_type": "code",
   "execution_count": 1,
   "id": "6c7f66e5-cc2b-42da-8be6-b61ce8ab9b77",
   "metadata": {},
   "outputs": [],
   "source": [
    "import nltk"
   ]
  },
  {
   "cell_type": "code",
   "execution_count": 2,
   "id": "96fec2d5-7e2f-40fa-8308-7b520c8043cd",
   "metadata": {},
   "outputs": [],
   "source": [
    "corpus=\"\"\"An optional string or integer to use as the unique key for the widget. If this is omitted,\n",
    "a key will be generated for the widget based on its content. No two widgets may have the same key.\n",
    "\"\"\"\n"
   ]
  },
  {
   "cell_type": "code",
   "execution_count": 3,
   "id": "10aed787-a198-4a18-9082-9e09a6bfd0df",
   "metadata": {},
   "outputs": [
    {
     "data": {
      "text/plain": [
       "'An optional string or integer to use as the unique key for the widget. If this is omitted,\\na key will be generated for the widget based on its content. No two widgets may have the same key.\\n'"
      ]
     },
     "execution_count": 3,
     "metadata": {},
     "output_type": "execute_result"
    }
   ],
   "source": [
    "corpus"
   ]
  },
  {
   "cell_type": "code",
   "execution_count": 4,
   "id": "c6653be1-4845-4fe8-94b0-6dfd93526c3a",
   "metadata": {},
   "outputs": [
    {
     "data": {
      "text/plain": [
       "['An optional string or integer to use as the unique key for the widget.',\n",
       " 'If this is omitted,\\na key will be generated for the widget based on its content.',\n",
       " 'No two widgets may have the same key.']"
      ]
     },
     "execution_count": 4,
     "metadata": {},
     "output_type": "execute_result"
    }
   ],
   "source": [
    "#Tokenization\n",
    "#Paragraphs-->Sentence\n",
    "from nltk.tokenize import sent_tokenize\n",
    "sent_tokenize(corpus)"
   ]
  },
  {
   "cell_type": "code",
   "execution_count": 6,
   "id": "a2f8814f-97ba-4b44-b9a0-41f5e0f176b4",
   "metadata": {},
   "outputs": [
    {
     "data": {
      "text/plain": [
       "['An optional string or integer to use as the unique key for the widget.',\n",
       " 'If this is omitted,\\na key will be generated for the widget based on its content.',\n",
       " 'No two widgets may have the same key.']"
      ]
     },
     "execution_count": 6,
     "metadata": {},
     "output_type": "execute_result"
    }
   ],
   "source": [
    "documents=sent_tokenize(corpus)\n",
    "documents"
   ]
  },
  {
   "cell_type": "code",
   "execution_count": 7,
   "id": "52a9c6bb-ce94-41eb-a3b0-58c9be7cf206",
   "metadata": {},
   "outputs": [
    {
     "name": "stdout",
     "output_type": "stream",
     "text": [
      "An optional string or integer to use as the unique key for the widget.\n",
      "If this is omitted,\n",
      "a key will be generated for the widget based on its content.\n",
      "No two widgets may have the same key.\n"
     ]
    }
   ],
   "source": [
    "for i in documents:\n",
    "    print(i)"
   ]
  },
  {
   "cell_type": "code",
   "execution_count": 11,
   "id": "1b84822d-82e4-4c3b-8c5e-8b811e741e75",
   "metadata": {},
   "outputs": [
    {
     "data": {
      "text/plain": [
       "['An',\n",
       " 'optional',\n",
       " 'string',\n",
       " 'or',\n",
       " 'integer',\n",
       " 'to',\n",
       " 'use',\n",
       " 'as',\n",
       " 'the',\n",
       " 'unique',\n",
       " 'key',\n",
       " 'for',\n",
       " 'the',\n",
       " 'widget',\n",
       " '.',\n",
       " 'If',\n",
       " 'this',\n",
       " 'is',\n",
       " 'omitted',\n",
       " ',',\n",
       " 'a',\n",
       " 'key',\n",
       " 'will',\n",
       " 'be',\n",
       " 'generated',\n",
       " 'for',\n",
       " 'the',\n",
       " 'widget',\n",
       " 'based',\n",
       " 'on',\n",
       " 'its',\n",
       " 'content',\n",
       " '.',\n",
       " 'No',\n",
       " 'two',\n",
       " 'widgets',\n",
       " 'may',\n",
       " 'have',\n",
       " 'the',\n",
       " 'same',\n",
       " 'key',\n",
       " '.']"
      ]
     },
     "execution_count": 11,
     "metadata": {},
     "output_type": "execute_result"
    }
   ],
   "source": [
    "#Tokenization\n",
    "#paragraph-->words\n",
    "#documents/sentencess-->words\n",
    "from nltk.tokenize import word_tokenize\n",
    "word_tokenize(corpus)"
   ]
  },
  {
   "cell_type": "code",
   "execution_count": 14,
   "id": "d3b6c061-4335-4990-bb89-4c685b2809a2",
   "metadata": {},
   "outputs": [
    {
     "name": "stdout",
     "output_type": "stream",
     "text": [
      "['An', 'optional', 'string', 'or', 'integer', 'to', 'use', 'as', 'the', 'unique', 'key', 'for', 'the', 'widget', '.']\n",
      "['If', 'this', 'is', 'omitted', ',', 'a', 'key', 'will', 'be', 'generated', 'for', 'the', 'widget', 'based', 'on', 'its', 'content', '.']\n",
      "['No', 'two', 'widgets', 'may', 'have', 'the', 'same', 'key', '.']\n"
     ]
    }
   ],
   "source": [
    "from nltk.tokenize import word_tokenize\n",
    "for i in documents:\n",
    "    print(word_tokenize(i))"
   ]
  },
  {
   "cell_type": "code",
   "execution_count": 15,
   "id": "cf736903-c0fa-423c-8ad9-c0e301d1a664",
   "metadata": {},
   "outputs": [
    {
     "data": {
      "text/plain": [
       "['An',\n",
       " 'optional',\n",
       " 'string',\n",
       " 'or',\n",
       " 'integer',\n",
       " 'to',\n",
       " 'use',\n",
       " 'as',\n",
       " 'the',\n",
       " 'unique',\n",
       " 'key',\n",
       " 'for',\n",
       " 'the',\n",
       " 'widget',\n",
       " '.',\n",
       " 'If',\n",
       " 'this',\n",
       " 'is',\n",
       " 'omitted',\n",
       " ',',\n",
       " 'a',\n",
       " 'key',\n",
       " 'will',\n",
       " 'be',\n",
       " 'generated',\n",
       " 'for',\n",
       " 'the',\n",
       " 'widget',\n",
       " 'based',\n",
       " 'on',\n",
       " 'its',\n",
       " 'content',\n",
       " '.',\n",
       " 'No',\n",
       " 'two',\n",
       " 'widgets',\n",
       " 'may',\n",
       " 'have',\n",
       " 'the',\n",
       " 'same',\n",
       " 'key',\n",
       " '.']"
      ]
     },
     "execution_count": 15,
     "metadata": {},
     "output_type": "execute_result"
    }
   ],
   "source": [
    "from nltk.tokenize import wordpunct_tokenize\n",
    "wordpunct_tokenize(corpus)"
   ]
  },
  {
   "cell_type": "code",
   "execution_count": 16,
   "id": "4dee1390-9a92-4c14-8717-a977b74f0e7a",
   "metadata": {},
   "outputs": [
    {
     "data": {
      "text/plain": [
       "['An',\n",
       " 'optional',\n",
       " 'string',\n",
       " 'or',\n",
       " 'integer',\n",
       " 'to',\n",
       " 'use',\n",
       " 'as',\n",
       " 'the',\n",
       " 'unique',\n",
       " 'key',\n",
       " 'for',\n",
       " 'the',\n",
       " 'widget.',\n",
       " 'If',\n",
       " 'this',\n",
       " 'is',\n",
       " 'omitted',\n",
       " ',',\n",
       " 'a',\n",
       " 'key',\n",
       " 'will',\n",
       " 'be',\n",
       " 'generated',\n",
       " 'for',\n",
       " 'the',\n",
       " 'widget',\n",
       " 'based',\n",
       " 'on',\n",
       " 'its',\n",
       " 'content.',\n",
       " 'No',\n",
       " 'two',\n",
       " 'widgets',\n",
       " 'may',\n",
       " 'have',\n",
       " 'the',\n",
       " 'same',\n",
       " 'key',\n",
       " '.']"
      ]
     },
     "execution_count": 16,
     "metadata": {},
     "output_type": "execute_result"
    }
   ],
   "source": [
    "from nltk.tokenize import TreebankWordTokenizer\n",
    "tokenizer=TreebankWordTokenizer()\n",
    "tokenizer.tokenize(corpus)"
   ]
  },
  {
   "cell_type": "code",
   "execution_count": null,
   "id": "6cfcd8e6-e374-442d-9190-80172fac17d7",
   "metadata": {},
   "outputs": [],
   "source": []
  }
 ],
 "metadata": {
  "kernelspec": {
   "display_name": "Python 3 (ipykernel)",
   "language": "python",
   "name": "python3"
  },
  "language_info": {
   "codemirror_mode": {
    "name": "ipython",
    "version": 3
   },
   "file_extension": ".py",
   "mimetype": "text/x-python",
   "name": "python",
   "nbconvert_exporter": "python",
   "pygments_lexer": "ipython3",
   "version": "3.11.7"
  }
 },
 "nbformat": 4,
 "nbformat_minor": 5
}
