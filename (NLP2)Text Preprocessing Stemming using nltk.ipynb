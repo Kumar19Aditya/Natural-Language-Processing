{
 "cells": [
  {
   "cell_type": "markdown",
   "id": "f6a817dc-797c-4751-a678-3fce7a49a01d",
   "metadata": {},
   "source": [
    "## Stemming\n",
    "Stemming is the process of reducing a word to its word stem that affixes to suffixes and prefixes or to the roots of words known as a lemma. Stemming is important in natural language understanding (NLU) and natural language processing (NLP)."
   ]
  },
  {
   "cell_type": "markdown",
   "id": "7cfdbada-fda5-4bd3-992e-54b756b7d2a9",
   "metadata": {},
   "source": [
    " ## PorterStemmer"
   ]
  },
  {
   "cell_type": "code",
   "execution_count": 35,
   "id": "d753b926-b1bb-4a37-b84d-ffff287f22f8",
   "metadata": {},
   "outputs": [
    {
     "name": "stdout",
     "output_type": "stream",
     "text": [
      "playing --> play\n",
      "played --> play\n",
      "played --> play\n",
      "going --> go\n",
      "gone --> gone\n",
      "went --> went\n",
      "see --> see\n",
      "saw --> saw\n",
      "seen --> seen\n"
     ]
    }
   ],
   "source": [
    "import nltk\n",
    "words=[\"playing\",\"played\",\"played\",\"going\",\"gone\",\"went\",\"see\",\"saw\",\"seen\"]\n",
    "##PorterStemmer\n",
    "from nltk.stem import PorterStemmer\n",
    "porter_stemmer=PorterStemmer()\n",
    "for i in words:\n",
    "    print(i,\"-->\",porter_stemmer.stem(i))"
   ]
  },
  {
   "cell_type": "code",
   "execution_count": 36,
   "id": "49d7f226-c56b-4bf9-ada5-e71c88fac88b",
   "metadata": {},
   "outputs": [
    {
     "name": "stdout",
     "output_type": "stream",
     "text": [
      "eating --> eat\n",
      "eats --> eat\n",
      "eaten --> eaten\n",
      "writing --> write\n",
      "writes --> write\n",
      "programming --> program\n",
      "programs --> program\n",
      "history --> histori\n",
      "finally --> final\n",
      "finalized --> final\n"
     ]
    }
   ],
   "source": [
    "## Classification Problem\n",
    "## Comments of product is a positive review or negative review\n",
    "## Reviews----> eating, eat,eaten [going,gone,goes]--->go\n",
    "\n",
    "words=[\"eating\",\"eats\",\"eaten\",\"writing\",\"writes\",\"programming\",\"programs\",\"history\",\"finally\",\"finalized\"]\n",
    "stemmer=PorterStemmer()\n",
    "for i in words:\n",
    "    print(i,\"-->\",stemmer.stem(i))"
   ]
  },
  {
   "cell_type": "code",
   "execution_count": 4,
   "id": "0e08d9af-2adf-44a9-b193-2414628e2ffc",
   "metadata": {},
   "outputs": [
    {
     "data": {
      "text/plain": [
       "'congratul'"
      ]
     },
     "execution_count": 4,
     "metadata": {},
     "output_type": "execute_result"
    }
   ],
   "source": [
    "stemmer.stem(\"congratulation\")"
   ]
  },
  {
   "cell_type": "code",
   "execution_count": 6,
   "id": "ec037475-6a02-4028-9dcc-c9ea2fa71d8d",
   "metadata": {},
   "outputs": [
    {
     "data": {
      "text/plain": [
       "'qualifi'"
      ]
     },
     "execution_count": 6,
     "metadata": {},
     "output_type": "execute_result"
    }
   ],
   "source": [
    "stemmer.stem(\"qualifying\")"
   ]
  },
  {
   "cell_type": "markdown",
   "id": "2c3f9e3c-deb9-4fef-83c0-db8ab79c4d68",
   "metadata": {},
   "source": [
    "### RegexpStemmer class\n",
    "NLTK has RegexpStemmer class with the help of which we can easily implement Regular Expression Stemmer algorithms. It basically takes a single regular expression and removes any prefix or suffix that matches the expression. Let us see an example"
   ]
  },
  {
   "cell_type": "markdown",
   "id": "e92e3f86-cb64-4a51-8d5f-8ad2929f6c40",
   "metadata": {},
   "source": [
    "## RegexStemmer"
   ]
  },
  {
   "cell_type": "code",
   "execution_count": 8,
   "id": "e0ada44d-672c-4f97-b6c4-e94508b4aa9e",
   "metadata": {},
   "outputs": [],
   "source": [
    "from nltk.stem import RegexpStemmer\n",
    "reg_stem=RegexpStemmer('ing$|s$|e$|able$', min=4)"
   ]
  },
  {
   "cell_type": "code",
   "execution_count": 14,
   "id": "a8d726b0-f044-4a2f-9928-501045574573",
   "metadata": {},
   "outputs": [
    {
     "data": {
      "text/plain": [
       "'eat'"
      ]
     },
     "execution_count": 14,
     "metadata": {},
     "output_type": "execute_result"
    }
   ],
   "source": [
    "reg_stem.stem(\"eating\")"
   ]
  },
  {
   "cell_type": "code",
   "execution_count": 15,
   "id": "fcbd98f2-d1a2-40a5-83ac-296d2756d649",
   "metadata": {},
   "outputs": [
    {
     "data": {
      "text/plain": [
       "'ingeat'"
      ]
     },
     "execution_count": 15,
     "metadata": {},
     "output_type": "execute_result"
    }
   ],
   "source": [
    "reg_stem.stem(\"ingeating\")#it will only remove last suffix"
   ]
  },
  {
   "cell_type": "code",
   "execution_count": 16,
   "id": "ca7bda62-25eb-4eaf-be14-0b9731bdbe7a",
   "metadata": {},
   "outputs": [
    {
     "data": {
      "text/plain": [
       "'walk'"
      ]
     },
     "execution_count": 16,
     "metadata": {},
     "output_type": "execute_result"
    }
   ],
   "source": [
    "reg_stem.stem('walkable')"
   ]
  },
  {
   "cell_type": "code",
   "execution_count": 21,
   "id": "27597a68-5ccc-4855-8227-4ca739fe396e",
   "metadata": {},
   "outputs": [],
   "source": [
    "from nltk.stem import RegexpStemmer\n",
    "reg_stem1=RegexpStemmer('ing|s|e|able', min=4)"
   ]
  },
  {
   "cell_type": "code",
   "execution_count": 22,
   "id": "4d35586d-98eb-4e31-9c8a-a5dbcd25f553",
   "metadata": {},
   "outputs": [
    {
     "data": {
      "text/plain": [
       "'play'"
      ]
     },
     "execution_count": 22,
     "metadata": {},
     "output_type": "execute_result"
    }
   ],
   "source": [
    "reg_stem1.stem('ingplaying')"
   ]
  },
  {
   "cell_type": "code",
   "execution_count": 23,
   "id": "f00053a8-ffec-41df-b8c4-bcd894383a84",
   "metadata": {},
   "outputs": [
    {
     "data": {
      "text/plain": [
       "\"do'\""
      ]
     },
     "execution_count": 23,
     "metadata": {},
     "output_type": "execute_result"
    }
   ],
   "source": [
    "reg_stem1.stem(\"sdo's\")"
   ]
  },
  {
   "cell_type": "code",
   "execution_count": 25,
   "id": "42d95846-7c98-4c88-83b8-93c01ed8073f",
   "metadata": {},
   "outputs": [
    {
     "data": {
      "text/plain": [
       "'_to'"
      ]
     },
     "execution_count": 25,
     "metadata": {},
     "output_type": "execute_result"
    }
   ],
   "source": [
    "reg_stem1.stem(\"able_toable\")"
   ]
  },
  {
   "cell_type": "code",
   "execution_count": 31,
   "id": "7e32c840-a138-4751-be16-a7598c6fd456",
   "metadata": {},
   "outputs": [],
   "source": [
    "from nltk.stem import RegexpStemmer\n",
    "reg_stem2=RegexpStemmer('$ing$|$s$|$e$|$able$', min=4)"
   ]
  },
  {
   "cell_type": "code",
   "execution_count": 32,
   "id": "ba04a2c2-8fa9-4927-b28c-0db32aee82ed",
   "metadata": {},
   "outputs": [
    {
     "data": {
      "text/plain": [
       "'applying'"
      ]
     },
     "execution_count": 32,
     "metadata": {},
     "output_type": "execute_result"
    }
   ],
   "source": [
    "reg_stem2.stem(\"applying\")"
   ]
  },
  {
   "cell_type": "code",
   "execution_count": 33,
   "id": "bcc77cbf-2733-4b69-a43e-993ac8f512f7",
   "metadata": {},
   "outputs": [
    {
     "data": {
      "text/plain": [
       "'ingapplying'"
      ]
     },
     "execution_count": 33,
     "metadata": {},
     "output_type": "execute_result"
    }
   ],
   "source": [
    "reg_stem2.stem(\"ingapplying\")"
   ]
  },
  {
   "cell_type": "markdown",
   "id": "979565a0-0573-4197-a03e-d184b7256680",
   "metadata": {},
   "source": [
    "## Snowball stemmer"
   ]
  },
  {
   "cell_type": "code",
   "execution_count": 34,
   "id": "d8d6c572-d9a5-4e64-913a-47146d9d8eed",
   "metadata": {},
   "outputs": [
    {
     "name": "stdout",
     "output_type": "stream",
     "text": [
      "eating --> eat\n",
      "eats --> eat\n",
      "eaten --> eaten\n",
      "writing --> write\n",
      "writes --> write\n",
      "programming --> program\n",
      "programs --> program\n",
      "history --> histori\n",
      "finally --> final\n",
      "finalized --> final\n"
     ]
    }
   ],
   "source": [
    "from nltk.stem import SnowballStemmer\n",
    "stem=SnowballStemmer('english')\n",
    "for i in words:\n",
    "    print(i,\"-->\",stem.stem(i))"
   ]
  },
  {
   "cell_type": "code",
   "execution_count": 37,
   "id": "71af9fa4-b386-4ca2-96e8-feaf5e94052a",
   "metadata": {},
   "outputs": [
    {
     "data": {
      "text/plain": [
       "('fairli', 'sportingli')"
      ]
     },
     "execution_count": 37,
     "metadata": {},
     "output_type": "execute_result"
    }
   ],
   "source": [
    "stemmer.stem(\"fairly\"),stemmer.stem(\"sportingly\")#Porter stemmer"
   ]
  },
  {
   "cell_type": "code",
   "execution_count": 38,
   "id": "c76b1a0d-89cd-4b9a-b6c8-2602736f24e0",
   "metadata": {},
   "outputs": [
    {
     "data": {
      "text/plain": [
       "('fair', 'sport')"
      ]
     },
     "execution_count": 38,
     "metadata": {},
     "output_type": "execute_result"
    }
   ],
   "source": [
    "stem.stem(\"fairly\"),stem.stem(\"sportingly\")#snowball stemmer"
   ]
  },
  {
   "cell_type": "code",
   "execution_count": null,
   "id": "0d356e34-5f4f-483b-934b-e7bd95ff23ea",
   "metadata": {},
   "outputs": [],
   "source": []
  }
 ],
 "metadata": {
  "kernelspec": {
   "display_name": "Python 3 (ipykernel)",
   "language": "python",
   "name": "python3"
  },
  "language_info": {
   "codemirror_mode": {
    "name": "ipython",
    "version": 3
   },
   "file_extension": ".py",
   "mimetype": "text/x-python",
   "name": "python",
   "nbconvert_exporter": "python",
   "pygments_lexer": "ipython3",
   "version": "3.11.7"
  }
 },
 "nbformat": 4,
 "nbformat_minor": 5
}
